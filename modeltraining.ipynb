{
 "cells": [
  {
   "cell_type": "code",
   "execution_count": null,
   "id": "b27d5f5a",
   "metadata": {},
   "outputs": [
    {
     "name": "stdout",
     "output_type": "stream",
     "text": [
      "\n",
      "Random Forest (Flood):\n",
      "Accuracy: 1.0\n",
      "              precision    recall  f1-score   support\n",
      "\n",
      "           0       1.00      1.00      1.00      1543\n",
      "           1       1.00      1.00      1.00      1490\n",
      "\n",
      "    accuracy                           1.00      3033\n",
      "   macro avg       1.00      1.00      1.00      3033\n",
      "weighted avg       1.00      1.00      1.00      3033\n",
      "\n",
      "\n",
      "Logistic Regression (Flood):\n",
      "Accuracy: 0.921529838443785\n",
      "              precision    recall  f1-score   support\n",
      "\n",
      "           0       0.95      0.90      0.92      1543\n",
      "           1       0.90      0.95      0.92      1490\n",
      "\n",
      "    accuracy                           0.92      3033\n",
      "   macro avg       0.92      0.92      0.92      3033\n",
      "weighted avg       0.92      0.92      0.92      3033\n",
      "\n"
     ]
    }
   ],
   "source": [
    "import pandas as pd\n",
    "from sklearn.model_selection import train_test_split\n",
    "from sklearn.ensemble import RandomForestClassifier\n",
    "from sklearn.linear_model import LogisticRegression\n",
    "from sklearn.metrics import classification_report, confusion_matrix, accuracy_score\n",
    "\n",
    "# Load balanced flood data\n",
    "flood_df = pd.read_csv(\"dataset/flood_data_balanced.csv\")\n",
    "X = flood_df.drop(\"Risk_Label\", axis=1)\n",
    "y = flood_df[\"Risk_Label\"]\n",
    "\n",
    "# Train-test split\n",
    "X_train, X_test, y_train, y_test = train_test_split(X, y, test_size=0.2, random_state=42)\n",
    "\n",
    "# === Model 1: Random Forest ===\n",
    "rf_model = RandomForestClassifier(random_state=42)\n",
    "rf_model.fit(X_train, y_train)\n",
    "y_pred_rf = rf_model.predict(X_test)\n",
    "\n",
    "print(\"\\nRandom Forest (Flood):\")\n",
    "print(\"Accuracy:\", accuracy_score(y_test, y_pred_rf))\n",
    "print(classification_report(y_test, y_pred_rf))\n",
    "\n",
    "# === Model 2: Logistic Regression ===\n",
    "lr_model = LogisticRegression(max_iter=1000)\n",
    "lr_model.fit(X_train, y_train)\n",
    "y_pred_lr = lr_model.predict(X_test)\n",
    "\n",
    "print(\"\\nLogistic Regression (Flood):\")\n",
    "print(\"Accuracy:\", accuracy_score(y_test, y_pred_lr))\n",
    "print(classification_report(y_test, y_pred_lr))\n"
   ]
  },
  {
   "cell_type": "code",
   "execution_count": null,
   "id": "16f9c21b",
   "metadata": {},
   "outputs": [
    {
     "name": "stdout",
     "output_type": "stream",
     "text": [
      "\n",
      "Random Forest (Earthquake):\n",
      "Accuracy: 1.0\n",
      "              precision    recall  f1-score   support\n",
      "\n",
      "           0       1.00      1.00      1.00      1564\n",
      "           1       1.00      1.00      1.00      1530\n",
      "\n",
      "    accuracy                           1.00      3094\n",
      "   macro avg       1.00      1.00      1.00      3094\n",
      "weighted avg       1.00      1.00      1.00      3094\n",
      "\n",
      "\n",
      "Logistic Regression (Earthquake):\n",
      "Accuracy: 0.9767291531997414\n",
      "              precision    recall  f1-score   support\n",
      "\n",
      "           0       1.00      0.96      0.98      1564\n",
      "           1       0.96      1.00      0.98      1530\n",
      "\n",
      "    accuracy                           0.98      3094\n",
      "   macro avg       0.98      0.98      0.98      3094\n",
      "weighted avg       0.98      0.98      0.98      3094\n",
      "\n"
     ]
    }
   ],
   "source": [
    "# Load balanced earthquake data\n",
    "quake_df = pd.read_csv(\"dataset/earthquake_data_balanced.csv\")\n",
    "X_q = quake_df.drop(\"Risk_Label\", axis=1)\n",
    "y_q = quake_df[\"Risk_Label\"]\n",
    "\n",
    "# Train-test split\n",
    "Xq_train, Xq_test, yq_train, yq_test = train_test_split(X_q, y_q, test_size=0.2, random_state=42)\n",
    "\n",
    "# === Model 1: Random Forest ===\n",
    "rf_model_q = RandomForestClassifier(random_state=42)\n",
    "rf_model_q.fit(Xq_train, yq_train)\n",
    "yq_pred_rf = rf_model_q.predict(Xq_test)\n",
    "\n",
    "print(\"\\nRandom Forest (Earthquake):\")\n",
    "print(\"Accuracy:\", accuracy_score(yq_test, yq_pred_rf))\n",
    "print(classification_report(yq_test, yq_pred_rf))\n",
    "\n",
    "# === Model 2: Logistic Regression ===\n",
    "lr_model_q = LogisticRegression(max_iter=1000)\n",
    "lr_model_q.fit(Xq_train, yq_train)\n",
    "yq_pred_lr = lr_model_q.predict(Xq_test)\n",
    "\n",
    "print(\"\\nLogistic Regression (Earthquake):\")\n",
    "print(\"Accuracy:\", accuracy_score(yq_test, yq_pred_lr))\n",
    "print(classification_report(yq_test, yq_pred_lr))\n"
   ]
  },
  {
   "cell_type": "code",
   "execution_count": 4,
   "id": "1d89a102",
   "metadata": {},
   "outputs": [
    {
     "name": "stdout",
     "output_type": "stream",
     "text": [
      "✅ All models saved successfully!\n"
     ]
    }
   ],
   "source": [
    "import joblib\n",
    "\n",
    "# Earthquake Models\n",
    "joblib.dump(rf_model_q, 'models/earthquake_rf_model.pkl')\n",
    "joblib.dump(lr_model_q, 'models/earthquake_lr_model.pkl')\n",
    "\n",
    "# Flood Models\n",
    "joblib.dump(rf_model, 'models/flood_rf_model.pkl')\n",
    "joblib.dump(lr_model, 'models/flood_lr_model.pkl')\n",
    "\n",
    "print(\"✅ All models saved successfully!\")\n"
   ]
  }
 ],
 "metadata": {
  "kernelspec": {
   "display_name": "base",
   "language": "python",
   "name": "python3"
  },
  "language_info": {
   "codemirror_mode": {
    "name": "ipython",
    "version": 3
   },
   "file_extension": ".py",
   "mimetype": "text/x-python",
   "name": "python",
   "nbconvert_exporter": "python",
   "pygments_lexer": "ipython3",
   "version": "3.12.7"
  }
 },
 "nbformat": 4,
 "nbformat_minor": 5
}
