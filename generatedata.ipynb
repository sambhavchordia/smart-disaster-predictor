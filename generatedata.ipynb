{
 "cells": [
  {
   "cell_type": "code",
   "execution_count": null,
   "id": "bf45cd2e",
   "metadata": {},
   "outputs": [
    {
     "name": "stdout",
     "output_type": "stream",
     "text": [
      "✅ 8000-row datasets saved as 'flood_data.csv' and 'earthquake_data.csv'\n"
     ]
    }
   ],
   "source": [
    "import pandas as pd\n",
    "import numpy as np\n",
    "\n",
    "# Set random seed for reproducibility\n",
    "np.random.seed(42)\n",
    "\n",
    "# Number of rows\n",
    "n_rows = 8000\n",
    "\n",
    "# Simulate Flood Data\n",
    "flood_data = pd.DataFrame({\n",
    "    'Rainfall_mm': np.random.normal(120, 30, n_rows),\n",
    "    'River_Level_m': np.random.normal(5, 1.2, n_rows),\n",
    "    'Soil_Moisture': np.random.uniform(40, 90, n_rows),\n",
    "    'Temperature_C': np.random.normal(28, 3, n_rows)\n",
    "})\n",
    "flood_data['Risk_Label'] = ((flood_data['Rainfall_mm'] > 130) & \n",
    "                            (flood_data['River_Level_m'] > 5.5) & \n",
    "                            (flood_data['Soil_Moisture'] > 70)).astype(int)\n",
    "flood_data.to_csv('dataset/flood_data.csv', index=False)\n",
    "\n",
    "# Simulate Earthquake Data\n",
    "earthquake_data = pd.DataFrame({\n",
    "    'Magnitude': np.random.normal(5.5, 1, n_rows),\n",
    "    'Depth_km': np.random.normal(10, 5, n_rows),\n",
    "    'Distance_to_City_km': np.random.uniform(5, 100, n_rows),\n",
    "    'Population_Density': np.random.uniform(500, 10000, n_rows)\n",
    "})\n",
    "earthquake_data['Risk_Label'] = ((earthquake_data['Magnitude'] > 6.5) & \n",
    "                                 (earthquake_data['Depth_km'] < 15) & \n",
    "                                 (earthquake_data['Distance_to_City_km'] < 30)).astype(int)\n",
    "earthquake_data.to_csv('dataset/earthquake_data.csv', index=False)\n",
    "\n",
    "print(\"✅ 8000-row datasets saved as 'flood_data.csv' and 'earthquake_data.csv'\")\n"
   ]
  },
  {
   "cell_type": "code",
   "execution_count": 1,
   "id": "c49beca1",
   "metadata": {},
   "outputs": [],
   "source": [
    "import pandas as pd\n",
    "from sklearn.model_selection import train_test_split\n",
    "from sklearn.ensemble import RandomForestClassifier\n",
    "from sklearn.metrics import classification_report, accuracy_score\n",
    "from imblearn.over_sampling import SMOTE\n",
    "import joblib"
   ]
  },
  {
   "cell_type": "code",
   "execution_count": null,
   "id": "b9de7cd3",
   "metadata": {},
   "outputs": [
    {
     "name": "stdout",
     "output_type": "stream",
     "text": [
      "✅ Flood balanced dataset saved as 'flood_data_balanced.csv'\n"
     ]
    }
   ],
   "source": [
    "import pandas as pd\n",
    "from imblearn.over_sampling import SMOTE\n",
    "\n",
    "# Load original flood dataset\n",
    "flood_data = pd.read_csv(\"dataset/flood_data.csv\")\n",
    "X_flood = flood_data.drop(\"Risk_Label\", axis=1)\n",
    "y_flood = flood_data[\"Risk_Label\"]\n",
    "\n",
    "# Apply SMOTE\n",
    "smote = SMOTE(random_state=42)\n",
    "Xf_res, yf_res = smote.fit_resample(X_flood, y_flood)\n",
    "\n",
    "# Combine into one DataFrame\n",
    "flood_balanced = pd.DataFrame(Xf_res, columns=X_flood.columns)\n",
    "flood_balanced['Risk_Label'] = yf_res\n",
    "\n",
    "# Save to CSV\n",
    "flood_balanced.to_csv(\"dataset/flood_data_balanced.csv\", index=False)\n",
    "print(\"✅ Flood balanced dataset saved as 'flood_data_balanced.csv'\")"
   ]
  },
  {
   "cell_type": "code",
   "execution_count": null,
   "id": "63358ca8",
   "metadata": {},
   "outputs": [
    {
     "name": "stdout",
     "output_type": "stream",
     "text": [
      "✅ Earthquake balanced dataset saved as 'earthquake_data_balanced.csv'\n"
     ]
    }
   ],
   "source": [
    "# Load original earthquake dataset\n",
    "earthquake_data = pd.read_csv(\"dataset/earthquake_data.csv\")\n",
    "X_quake = earthquake_data.drop(\"Risk_Label\", axis=1)\n",
    "y_quake = earthquake_data[\"Risk_Label\"]\n",
    "\n",
    "# Apply SMOTE\n",
    "Xq_res, yq_res = smote.fit_resample(X_quake, y_quake)\n",
    "\n",
    "# Combine into one DataFrame\n",
    "quake_balanced = pd.DataFrame(Xq_res, columns=X_quake.columns)\n",
    "quake_balanced['Risk_Label'] = yq_res\n",
    "\n",
    "# Save to CSV\n",
    "quake_balanced.to_csv(\"dataset/earthquake_data_balanced.csv\", index=False)\n",
    "print(\"✅ Earthquake balanced dataset saved as 'earthquake_data_balanced.csv'\")\n"
   ]
  }
 ],
 "metadata": {
  "kernelspec": {
   "display_name": "base",
   "language": "python",
   "name": "python3"
  },
  "language_info": {
   "codemirror_mode": {
    "name": "ipython",
    "version": 3
   },
   "file_extension": ".py",
   "mimetype": "text/x-python",
   "name": "python",
   "nbconvert_exporter": "python",
   "pygments_lexer": "ipython3",
   "version": "3.12.7"
  }
 },
 "nbformat": 4,
 "nbformat_minor": 5
}
